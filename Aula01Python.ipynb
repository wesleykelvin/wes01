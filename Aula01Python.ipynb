{
  "nbformat": 4,
  "nbformat_minor": 0,
  "metadata": {
    "colab": {
      "name": "Exemplo01.ipynb",
      "provenance": [],
      "collapsed_sections": [],
      "authorship_tag": "ABX9TyNtHhxjKG5U7hD6gK+x2xwF",
      "include_colab_link": true
    },
    "kernelspec": {
      "name": "python3",
      "display_name": "Python 3"
    }
  },
  "cells": [
    {
      "cell_type": "markdown",
      "metadata": {
        "id": "view-in-github",
        "colab_type": "text"
      },
      "source": [
        "<a href=\"https://colab.research.google.com/github/wesleykelvin/wes01/blob/master/Aula01Python.ipynb\" target=\"_parent\"><img src=\"https://colab.research.google.com/assets/colab-badge.svg\" alt=\"Open In Colab\"/></a>"
      ]
    },
    {
      "cell_type": "code",
      "metadata": {
        "id": "h40eLgCpw5BW",
        "colab_type": "code",
        "colab": {
          "base_uri": "https://localhost:8080/",
          "height": 68
        },
        "outputId": "7ce8c705-1b8e-448c-bc61-7065013bda6e"
      },
      "source": [
        "### isto é um comando de saída\n",
        "print('Olá mundo Cruel!!!! ')\n",
        "print('Cruel World!!!!!')\n",
        "# a hastag é um comentário no código,ou seja, o programa não irá processar nenhuma linha que estiver marcada pela hastag\n",
        "# o comando print() mostra na tela, ou seja,é uma saida de valor(es).\n",
        "# o conteudo texto deve estar entre as aspas (simples ou dupla)\n",
        "print(\"'Olá mundo ' \")\n",
        "\n",
        "\n"
      ],
      "execution_count": 6,
      "outputs": [
        {
          "output_type": "stream",
          "text": [
            "Olá mundo Cruel!!!! \n",
            "Cruel World!!!!!\n",
            "'Olá mundo ' \n"
          ],
          "name": "stdout"
        }
      ]
    }
  ]
}