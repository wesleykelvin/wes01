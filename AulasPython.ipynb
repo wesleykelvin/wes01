{
  "nbformat": 4,
  "nbformat_minor": 0,
  "metadata": {
    "colab": {
      "name": "AulasPython.ipynb",
      "provenance": [],
      "authorship_tag": "ABX9TyPTK5PX051aiKt1s9bdWkhi",
      "include_colab_link": true
    },
    "kernelspec": {
      "name": "python3",
      "display_name": "Python 3"
    }
  },
  "cells": [
    {
      "cell_type": "markdown",
      "metadata": {
        "id": "view-in-github",
        "colab_type": "text"
      },
      "source": [
        "<a href=\"https://colab.research.google.com/github/wesleykelvin/wes01/blob/master/AulasPython.ipynb\" target=\"_parent\"><img src=\"https://colab.research.google.com/assets/colab-badge.svg\" alt=\"Open In Colab\"/></a>"
      ]
    },
    {
      "cell_type": "code",
      "metadata": {
        "id": "8n9enOU3e2ad",
        "colab_type": "code",
        "colab": {
          "base_uri": "https://localhost:8080/",
          "height": 34
        },
        "outputId": "ca5cf7eb-0d63-4e0b-b859-c4192741dc99"
      },
      "source": [
        "print('Vamos programar,Hello Word')\n"
      ],
      "execution_count": 1,
      "outputs": [
        {
          "output_type": "stream",
          "text": [
            "Vamos programar,Hello Word\n"
          ],
          "name": "stdout"
        }
      ]
    },
    {
      "cell_type": "code",
      "metadata": {
        "id": "0sjQ5HxqlOr3",
        "colab_type": "code",
        "colab": {
          "base_uri": "https://localhost:8080/",
          "height": 119
        },
        "outputId": "21d0c4b7-3ca8-42c8-efd2-9cdc04d8c454"
      },
      "source": [
        "print(\"Meu primeiro programa Python!!!\")\n",
        "print(\"Aluno(a)  | Nota\\n Ana maria | 9.00\\n José Carlos  | 7.20\\n Júlio Martins  | 8.00\\n Ubiratan Santos  | 10.00 \")"
      ],
      "execution_count": 32,
      "outputs": [
        {
          "output_type": "stream",
          "text": [
            "Meu primeiro programa Python!!!\n",
            "Aluno(a)  | Nota\n",
            " Ana maria | 9.00\n",
            " José Carlos  | 7.20\n",
            " Júlio Martins  | 8.00\n",
            " Ubiratan Santos  | 10.00 \n"
          ],
          "name": "stdout"
        }
      ]
    },
    {
      "cell_type": "code",
      "metadata": {
        "id": "fsM0SLTum_QS",
        "colab_type": "code",
        "colab": {
          "base_uri": "https://localhost:8080/",
          "height": 68
        },
        "outputId": "fc7af5f6-7a56-4265-a0e4-0233cd6d4178"
      },
      "source": [
        "a = int(input())\n",
        "b = int(input())\n",
        "print(a+b)"
      ],
      "execution_count": 46,
      "outputs": [
        {
          "output_type": "stream",
          "text": [
            "1\n",
            "5\n",
            "6\n"
          ],
          "name": "stdout"
        }
      ]
    },
    {
      "cell_type": "code",
      "metadata": {
        "id": "L80X2-6vpsUT",
        "colab_type": "code",
        "colab": {
          "base_uri": "https://localhost:8080/",
          "height": 85
        },
        "outputId": "cdef2f89-9a82-4971-ef5b-a5cea043f1ff"
      },
      "source": [
        "a = int(input())\n",
        "b = int(input())\n",
        "c = int(input())\n",
        "print(b**2-4*a*c )\n",
        "\n",
        "\n",
        " \n"
      ],
      "execution_count": 60,
      "outputs": [
        {
          "output_type": "stream",
          "text": [
            "1\n",
            "12\n",
            "-13\n",
            "196\n"
          ],
          "name": "stdout"
        }
      ]
    }
  ]
}